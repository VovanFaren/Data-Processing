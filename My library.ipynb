{
 "cells": [
  {
   "cell_type": "code",
   "execution_count": 3,
   "metadata": {},
   "outputs": [],
   "source": [
    "import matplotlib.pyplot as plt\n",
    "import os\n",
    "import glob\n",
    "import pandas as pd\n",
    "from datetime import datetime\n",
    "import scipy\n",
    "from scipy.interpolate import interp1d\n",
    "from scipy.interpolate import splrep, splev, CubicSpline, splprep\n",
    "from scipy.signal import savgol_filter\n",
    "from IPython.display import clear_output\n",
    "from sklearn.covariance import EmpiricalCovariance, MinCovDet\n",
    "from sklearn.decomposition import PCA\n",
    "from sklearn.preprocessing import StandardScaler\n",
    "import shutil\n",
    "%matplotlib inline\n",
    "from scipy.interpolate import UnivariateSpline\n",
    "import tkinter\n",
    "from tkinter import filedialog\n",
    "from scipy.stats import norm"
   ]
  },
  {
   "cell_type": "code",
   "execution_count": 4,
   "metadata": {},
   "outputs": [],
   "source": [
    "class Processing():\n",
    "    log = []\n",
    "    mask_list = []\n",
    "    mask_list_numbers = []\n",
    "    sample_thickness = 38\n",
    "    sample_area = 9.25\n",
    "    n = 1\n",
    "    m = 'all'\n",
    "    \n",
    "    folder_path = 'C://Users//Enric ST//Desktop//Results//MLCs of PST//MLC_2_2_5//PE_data_adiabatic/'\n",
    "    \n",
    "    folder_name = 'MLC_2_2_5_80V_330_275_probe_4Hz'\n",
    "    \n",
    "    data_path = f'{folder_path}{folder_name}/'\n",
    "    \n",
    "    # folders = ['Raw data', 'Column filter', 'Q1s', 'Fitted Q1s', 'P(E) matrix', 'P(T) matrix', 'P(S) matrix', 'dP/dT', 'delta S']\n",
    "    folders = ['Zhopa1', 'Zhopa2', 'Zhopa3']\n",
    "    \n",
    "    directories = []\n",
    "    maxes = []\n",
    "    lengths = []\n",
    "    \n",
    "    lowest_max_E = None\n",
    "    points = None\n",
    "    x_sim = None\n",
    "    \n",
    "    filenames = glob.glob(f'{data_path}*.tab')\n",
    "    \n",
    "    def create_folder(self, name):\n",
    "        new_folder_path = self.data_path + f'{name}/'\n",
    "        self.log.append(f'Creating folder {name}')\n",
    "        if not os.path.isdir(new_folder_path):\n",
    "            os.mkdir(new_folder_path)\n",
    "            \n",
    "        self.directories.append(new_folder_path)\n",
    "        self.log.append(f'New folder created. Path {new_folder_path}')\n",
    "    def create_dirs(self):\n",
    "        \n",
    "        for folder in self.folders:\n",
    "            self.create_folder(folder)\n",
    "            \n",
    "        self.filenames = glob.glob(f'{self.directories[0]}*.tab')\n",
    "        \n",
    "        self.filenames = sorted(self.filenames)\n",
    "    \n",
    "    def mask_list_gen(self):\n",
    "        just_names = os.listdir(self.directories[0])\n",
    "        \n",
    "        for name in just_names:\n",
    "            if name.endswith('.csv'):\n",
    "                self.mask_list.append(float(name.replace('.csv','')))\n",
    "                self.mask_list_numbers.append(float(name))\n",
    "            if name.endswith('.tab'):\n",
    "                self.mask_list.append(name.replace('.tab',''))\n",
    "                self.mask_list_numbers.append(float(name))\n",
    "        self.mask_list = sorted(self.mask_list)\n",
    "        self.mask_list_numbers = sorted(self.mask_list_numbers)\n",
    "    \n",
    "    def column_filter(self, dataset, output_name):\n",
    "        \n",
    "        empties = []\n",
    "        \n",
    "        file = pd.read_table (dataset)\n",
    "        if file.empty:\n",
    "            self.log.append(f'Dataset {dataset} is empty. Cannot continue')\n",
    "            empties.append(dataset)\n",
    "        else:\n",
    "        \n",
    "            self.maxes.append(max(file['#Drive Voltage']))\n",
    "            self.lengths.append(len(file))\n",
    "                \n",
    "            file.drop(['E_SI', 'P_SI','Point','Time (ms)'], axis = 1, inplace = True)\n",
    "                \n",
    "            file.insert(0, 'E_field (kV/cm)', (10**-5*file['#Drive Voltage']/\\\n",
    "                                                (self.sample_thickness*10**-6))) #field in kV/cm      \n",
    "            file.drop(['#Drive Voltage'], axis = 1, inplace = True)\n",
    "                \n",
    "            file['Measured Polarization'] = 10**-6*file['Measured Polarization']/\\\n",
    "                (self.sample_area*10**-4)# normalising polarisation by sample ares in cm^2\n",
    "                \n",
    "            file.insert(1, 'Measured Polarization (C/m^2)', (file['Measured Polarization']))\n",
    "            file.drop(columns = ['Measured Polarization'], inplace = True)\n",
    "                \n",
    "            file.to_csv(self.directories[1] + '/' + output_name + '.csv')\n",
    "        \n",
    "    def E_max_finder(self):\n",
    "        self.log.append('Finding min E_max')\n",
    "        self.points = min(self.points)\n",
    "        self.lowest_max_E = min(self.maxes)\n",
    "        self.log.append(f'Simulation points {min(self.points)}')\n",
    "        self.log.append(f'Maximum electric field for simulation = {min(self.lowest_max_E)}')\n",
    "    \n",
    "    def Q1_select(self, file, output_name):\n",
    "        \n",
    "        self.log.append(f'Resolving Q1 for file {output_name}')\n",
    "        \n",
    "        file.iloc[0:(file['E_field (kV/cm)'].idxmax()),:]\n",
    "        \n",
    "        file.drop(Q1[Q1['E_field (kV/cm)'] < 0].index, inplace = True)\n",
    "        file.drop(Q1[Q1['Measured Polarization (C/m^2)'] < 0].index, inplace = True)\n",
    "        \n",
    "        Q1 = file\n",
    "        \n",
    "        Q1_field = Q1['E_field (kV/cm)']\n",
    "        Q1_field = Q1['E_field (kV/cm)'] - min(Q1['E_field (kV/cm)'])\n",
    "        Q1_polarisation = Q1['Measured Polarization (C/m^2)']\n",
    "    \n",
    "        Q1 = Q1.iloc[::-1]    \n",
    "        Q1.to_csv(f'{self.directories[2]}/{output_name}.csv')\n",
    "        \n",
    "        return Q1, Q1_field, Q1_polarisation\n",
    "        \n",
    "    def data_sim(self, x_data, y_data, smooth = 'No', fit_kind = 'cubic'):\n",
    "        \n",
    "        fitting_Q1 = pd.DataFrame()\n",
    "        \n",
    "        if fit_kind == 'cubic':\n",
    "            \n",
    "            fit = interp1d(x_data, y_data, kind = 'cubic', fill_value = 'extrapolate', bounds_error = False)\n",
    "        else:\n",
    "            fit = interp1d(x_data, y_data, kind = 'linear', fill_value = 'extrapolate', bounds_error = False)\n",
    "        \n",
    "        y_sim = fit(x_sim)\n",
    "        \n",
    "        fitting_Q1.insert(0, 'Fitted E_field (kV/cm)', x_sim)\n",
    "        fitting_Q1.insert(len(fitting_Q1.columns),\\\n",
    "                                       'Fitted Polarisation (C/m^2)', y_sim)\n",
    "      \n",
    "        fitting_Q1.to_csv(f'{self.directories[3]}/{output_name}.csv')\n",
    "        \n",
    "        return y_sim\n",
    "\n",
    "    def initial_processing(self):\n",
    "        \n",
    "        if self.lowest_max_E != None:\n",
    "            self.E_max_finder()\n",
    "        \n",
    "        self.x_sim = np.linspace(0, 0.99*self.lowest_max_E, self.points)\n",
    "        \n",
    "        if self.m == 'all' or self.m >= len(self.filenames):\n",
    "            m = len(self.filenames)\n",
    "            \n",
    "        self.log.append(f'Processing first {m} files')\n",
    "            \n",
    "        for i, dataset in enumerate(self.filenames[:m]):\n",
    "        \n",
    "            clear_output(wait = True)\n",
    "            \n",
    "            # file = self.column_filter(dataset, self.)\n",
    "        \n",
    "    \n",
    "    "
   ]
  },
  {
   "cell_type": "code",
   "execution_count": 5,
   "metadata": {},
   "outputs": [],
   "source": [
    "trial = Processing()\n"
   ]
  },
  {
   "cell_type": "code",
   "execution_count": null,
   "metadata": {},
   "outputs": [],
   "source": []
  },
  {
   "cell_type": "code",
   "execution_count": 6,
   "metadata": {},
   "outputs": [
    {
     "ename": "FileNotFoundError",
     "evalue": "[Errno 2] No such file or directory: 'C://Users//Enric ST//Desktop//Results//MLCs of PST//MLC_2_2_5//PE_data_adiabatic/MLC_2_2_5_80V_330_275_probe_4Hz/Zhopa1/'",
     "output_type": "error",
     "traceback": [
      "\u001b[0;31m---------------------------------------------------------------------------\u001b[0m",
      "\u001b[0;31mFileNotFoundError\u001b[0m                         Traceback (most recent call last)",
      "\u001b[0;32m/var/folders/8h/405cjsz95wn5tmkmhc1gdslr0000gn/T/ipykernel_30437/1706503865.py\u001b[0m in \u001b[0;36m<module>\u001b[0;34m\u001b[0m\n\u001b[0;32m----> 1\u001b[0;31m \u001b[0mtrial\u001b[0m\u001b[0;34m.\u001b[0m\u001b[0mcreate_dirs\u001b[0m\u001b[0;34m(\u001b[0m\u001b[0;34m)\u001b[0m\u001b[0;34m\u001b[0m\u001b[0;34m\u001b[0m\u001b[0m\n\u001b[0m",
      "\u001b[0;32m/var/folders/8h/405cjsz95wn5tmkmhc1gdslr0000gn/T/ipykernel_30437/472278372.py\u001b[0m in \u001b[0;36mcreate_dirs\u001b[0;34m(self)\u001b[0m\n\u001b[1;32m     38\u001b[0m \u001b[0;34m\u001b[0m\u001b[0m\n\u001b[1;32m     39\u001b[0m         \u001b[0;32mfor\u001b[0m \u001b[0mfolder\u001b[0m \u001b[0;32min\u001b[0m \u001b[0mself\u001b[0m\u001b[0;34m.\u001b[0m\u001b[0mfolders\u001b[0m\u001b[0;34m:\u001b[0m\u001b[0;34m\u001b[0m\u001b[0;34m\u001b[0m\u001b[0m\n\u001b[0;32m---> 40\u001b[0;31m             \u001b[0mself\u001b[0m\u001b[0;34m.\u001b[0m\u001b[0mcreate_folder\u001b[0m\u001b[0;34m(\u001b[0m\u001b[0mfolder\u001b[0m\u001b[0;34m)\u001b[0m\u001b[0;34m\u001b[0m\u001b[0;34m\u001b[0m\u001b[0m\n\u001b[0m\u001b[1;32m     41\u001b[0m \u001b[0;34m\u001b[0m\u001b[0m\n\u001b[1;32m     42\u001b[0m         \u001b[0mself\u001b[0m\u001b[0;34m.\u001b[0m\u001b[0mfilenames\u001b[0m \u001b[0;34m=\u001b[0m \u001b[0mglob\u001b[0m\u001b[0;34m.\u001b[0m\u001b[0mglob\u001b[0m\u001b[0;34m(\u001b[0m\u001b[0;34mf'{self.directories[0]}*.tab'\u001b[0m\u001b[0;34m)\u001b[0m\u001b[0;34m\u001b[0m\u001b[0;34m\u001b[0m\u001b[0m\n",
      "\u001b[0;32m/var/folders/8h/405cjsz95wn5tmkmhc1gdslr0000gn/T/ipykernel_30437/472278372.py\u001b[0m in \u001b[0;36mcreate_folder\u001b[0;34m(self, name)\u001b[0m\n\u001b[1;32m     31\u001b[0m         \u001b[0mself\u001b[0m\u001b[0;34m.\u001b[0m\u001b[0mlog\u001b[0m\u001b[0;34m.\u001b[0m\u001b[0mappend\u001b[0m\u001b[0;34m(\u001b[0m\u001b[0;34mf'Creating folder {name}'\u001b[0m\u001b[0;34m)\u001b[0m\u001b[0;34m\u001b[0m\u001b[0;34m\u001b[0m\u001b[0m\n\u001b[1;32m     32\u001b[0m         \u001b[0;32mif\u001b[0m \u001b[0;32mnot\u001b[0m \u001b[0mos\u001b[0m\u001b[0;34m.\u001b[0m\u001b[0mpath\u001b[0m\u001b[0;34m.\u001b[0m\u001b[0misdir\u001b[0m\u001b[0;34m(\u001b[0m\u001b[0mnew_folder_path\u001b[0m\u001b[0;34m)\u001b[0m\u001b[0;34m:\u001b[0m\u001b[0;34m\u001b[0m\u001b[0;34m\u001b[0m\u001b[0m\n\u001b[0;32m---> 33\u001b[0;31m             \u001b[0mos\u001b[0m\u001b[0;34m.\u001b[0m\u001b[0mmkdir\u001b[0m\u001b[0;34m(\u001b[0m\u001b[0mnew_folder_path\u001b[0m\u001b[0;34m)\u001b[0m\u001b[0;34m\u001b[0m\u001b[0;34m\u001b[0m\u001b[0m\n\u001b[0m\u001b[1;32m     34\u001b[0m \u001b[0;34m\u001b[0m\u001b[0m\n\u001b[1;32m     35\u001b[0m         \u001b[0mself\u001b[0m\u001b[0;34m.\u001b[0m\u001b[0mdirectories\u001b[0m\u001b[0;34m.\u001b[0m\u001b[0mappend\u001b[0m\u001b[0;34m(\u001b[0m\u001b[0mnew_folder_path\u001b[0m\u001b[0;34m)\u001b[0m\u001b[0;34m\u001b[0m\u001b[0;34m\u001b[0m\u001b[0m\n",
      "\u001b[0;31mFileNotFoundError\u001b[0m: [Errno 2] No such file or directory: 'C://Users//Enric ST//Desktop//Results//MLCs of PST//MLC_2_2_5//PE_data_adiabatic/MLC_2_2_5_80V_330_275_probe_4Hz/Zhopa1/'"
     ]
    }
   ],
   "source": [
    "trial.create_dirs()"
   ]
  },
  {
   "cell_type": "code",
   "execution_count": 38,
   "metadata": {},
   "outputs": [
    {
     "name": "stdout",
     "output_type": "stream",
     "text": [
      "[]\n"
     ]
    }
   ],
   "source": [
    "print(trial.filenames)"
   ]
  },
  {
   "cell_type": "code",
   "execution_count": 51,
   "metadata": {},
   "outputs": [
    {
     "name": "stdout",
     "output_type": "stream",
     "text": [
      "['C://Users//Enric ST//Desktop//Results//MLCs of PST//MLC_2_2_5//PE_data_adiabatic/MLC_2_2_5_80V_330_275_probe_4Hz/Zhopa1/', 'C://Users//Enric ST//Desktop//Results//MLCs of PST//MLC_2_2_5//PE_data_adiabatic/MLC_2_2_5_80V_330_275_probe_4Hz/Zhopa2/', 'C://Users//Enric ST//Desktop//Results//MLCs of PST//MLC_2_2_5//PE_data_adiabatic/MLC_2_2_5_80V_330_275_probe_4Hz/Zhopa3/']\n"
     ]
    }
   ],
   "source": [
    "print(trial.directories)"
   ]
  },
  {
   "cell_type": "code",
   "execution_count": null,
   "metadata": {},
   "outputs": [],
   "source": []
  }
 ],
 "metadata": {
  "interpreter": {
   "hash": "b764d87b6b9cc35f2e77163ca4c2fda8e56188afd98dc37293c306e2bf21e73e"
  },
  "kernelspec": {
   "display_name": "Python 3.10.4 64-bit",
   "language": "python",
   "name": "python3"
  },
  "language_info": {
   "codemirror_mode": {
    "name": "ipython",
    "version": 3
   },
   "file_extension": ".py",
   "mimetype": "text/x-python",
   "name": "python",
   "nbconvert_exporter": "python",
   "pygments_lexer": "ipython3",
   "version": "3.8.12"
  },
  "orig_nbformat": 4
 },
 "nbformat": 4,
 "nbformat_minor": 2
}
